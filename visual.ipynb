{
 "cells": [
  {
   "cell_type": "code",
   "execution_count": null,
   "id": "88ada74b",
   "metadata": {},
   "outputs": [],
   "source": [
    "# visualize the results\n",
    "import matplotlib.pyplot as plt\n",
    "import matplotlib as mpl\n",
    "import seaborn as sns\n",
    "\n",
    "mpl.rcParams['figure.dpi'] = 600\n",
    "plt.rcParams['figure.figsize'] = (20.0, 10.0)\n",
    "plt.rcParams['font.family'] = \"serif\"\n",
    "plt.rcParams['font.size'] = 10\n",
    "\n",
    "df = data_raw   # my data input in here\n",
    "pal = sns.color_palette(\"Paired\")[:len(set(df['kmeans_label']))]\n",
    "p1 = sns.scatterplot(x=\"pca_dim_1\", y='pca_dim_2', hue='kmeans_label', palette = pal, data=df, s=250, alpha=0.7, legend=False)\n",
    "\n",
    "#For each point, we add a text inside the bubble\n",
    "for line in range(0,df.shape[0]):\n",
    "     p1.text(df.pca_dim_1[line], df.pca_dim_2[line], df.country[line], horizontalalignment='left', size='medium', color='black', weight='semibold')\n",
    "\n",
    "plt.suptitle('Two-Dimensional Map of Countries (PCA)', fontsize=36)\n",
    "plt.xlabel('PCA - Dimension 1', fontsize=24)\n",
    "plt.ylabel('PCA - Dimension 2', fontsize=24)\n",
    "\n",
    "from scipy import interpolate\n",
    "from scipy.spatial import ConvexHull\n",
    "\n",
    "for i in df.kmeans_label.unique():\n",
    "    # get the convex hull\n",
    "    points = df[df.kmeans_label == i][['pca_dim_1', 'pca_dim_2']].values\n",
    "    hull = ConvexHull(points)\n",
    "    x_hull = np.append(points[hull.vertices,0],\n",
    "                       points[hull.vertices,0][0])\n",
    "    y_hull = np.append(points[hull.vertices,1],\n",
    "                       points[hull.vertices,1][0])\n",
    "    \n",
    "    # interpolate\n",
    "    dist = np.sqrt((x_hull[:-1] - x_hull[1:])**2 + (y_hull[:-1] - y_hull[1:])**2)\n",
    "    dist_along = np.concatenate(([0], dist.cumsum()))\n",
    "    spline, u = interpolate.splprep([x_hull, y_hull], \n",
    "                                    u=dist_along, s=0)\n",
    "    interp_d = np.linspace(dist_along[0], dist_along[-1], 50)\n",
    "    interp_x, interp_y = interpolate.splev(interp_d, spline)\n",
    "    # plot shape\n",
    "    plt.fill(interp_x, interp_y, '--', c=pal[i], alpha=0.2)\n",
    "    \n",
    "\n",
    "plt.grid()\n",
    "plt.show()"
   ]
  }
 ],
 "metadata": {
  "kernelspec": {
   "display_name": "Python 3 (ipykernel)",
   "language": "python",
   "name": "python3"
  },
  "language_info": {
   "codemirror_mode": {
    "name": "ipython",
    "version": 3
   },
   "file_extension": ".py",
   "mimetype": "text/x-python",
   "name": "python",
   "nbconvert_exporter": "python",
   "pygments_lexer": "ipython3",
   "version": "3.9.12"
  }
 },
 "nbformat": 4,
 "nbformat_minor": 5
}
